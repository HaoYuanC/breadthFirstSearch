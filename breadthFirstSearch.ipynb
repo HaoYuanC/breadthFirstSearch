{
 "cells": [
  {
   "cell_type": "markdown",
   "metadata": {},
   "source": [
    "# **install dependencies, register maps, set constants**"
   ]
  },
  {
   "cell_type": "markdown",
   "metadata": {},
   "source": [
    "**if in collab notebook or running for first time, un-comment the cell below:**"
   ]
  },
  {
   "cell_type": "code",
   "execution_count": 1,
   "metadata": {},
   "outputs": [],
   "source": [
    "# %pip install numpy\n",
    "# %pip install pillow\n",
    "# pip install matplotlib"
   ]
  },
  {
   "cell_type": "markdown",
   "metadata": {},
   "source": [
    "**import dependencies**"
   ]
  },
  {
   "cell_type": "code",
   "execution_count": 2,
   "metadata": {},
   "outputs": [],
   "source": [
    "from PIL import Image\n",
    "import numpy as np\n",
    "import matplotlib.pyplot\n",
    "import os"
   ]
  },
  {
   "cell_type": "markdown",
   "metadata": {},
   "source": [
    "**number of iterations to run breadth search (i.e. number of cells to propogate outwards)**"
   ]
  },
  {
   "cell_type": "code",
   "execution_count": 3,
   "metadata": {},
   "outputs": [],
   "source": [
    "iterations = 100"
   ]
  },
  {
   "cell_type": "markdown",
   "metadata": {},
   "source": [
    "**colourway**"
   ]
  },
  {
   "cell_type": "code",
   "execution_count": 4,
   "metadata": {},
   "outputs": [],
   "source": [
    "colourway = 'magma'"
   ]
  },
  {
   "cell_type": "markdown",
   "metadata": {},
   "source": [
    "**point to nolli map**"
   ]
  },
  {
   "cell_type": "code",
   "execution_count": 5,
   "metadata": {},
   "outputs": [],
   "source": [
    "nolliPATH = r\"C:\\Users\\hyche\\Desktop\\AR5802 Options 2\\Pix2Pix\\breadthFirstSearch\\testMaps\\testNolli3.png\""
   ]
  },
  {
   "cell_type": "markdown",
   "metadata": {},
   "source": [
    "**point to POI map**"
   ]
  },
  {
   "cell_type": "code",
   "execution_count": 6,
   "metadata": {},
   "outputs": [],
   "source": [
    "poiPATH = r\"C:\\Users\\hyche\\Desktop\\AR5802 Options 2\\Pix2Pix\\breadthFirstSearch\\testMaps\\testPOI3.png\""
   ]
  },
  {
   "cell_type": "markdown",
   "metadata": {},
   "source": [
    "**point to output folder**"
   ]
  },
  {
   "cell_type": "code",
   "execution_count": 7,
   "metadata": {},
   "outputs": [],
   "source": [
    "outputFolder = r\"C:\\Users\\hyche\\Desktop\\AR5802 Options 2\\Pix2Pix\\breadthFirstSearch\\outputs\""
   ]
  },
  {
   "cell_type": "markdown",
   "metadata": {},
   "source": [
    "# **define functions**"
   ]
  },
  {
   "cell_type": "markdown",
   "metadata": {},
   "source": [
    "**function to convert image to bitmap**"
   ]
  },
  {
   "cell_type": "code",
   "execution_count": 8,
   "metadata": {},
   "outputs": [],
   "source": [
    "def bitmap(path):\n",
    "    img = Image.open(path)\n",
    "    img_array = img.convert('1')\n",
    "    img_array = np.array(img_array)\n",
    "    return img_array"
   ]
  },
  {
   "cell_type": "markdown",
   "metadata": {},
   "source": [
    "**check nolli map**"
   ]
  },
  {
   "cell_type": "code",
   "execution_count": 9,
   "metadata": {},
   "outputs": [
    {
     "data": {
      "text/plain": [
       "(40, 60)"
      ]
     },
     "execution_count": 9,
     "metadata": {},
     "output_type": "execute_result"
    },
    {
     "data": {
      "image/png": "[encoded data removed]",
      "text/plain": [
       "<Figure size 720x480 with 1 Axes>"
      ]
     },
     "metadata": {},
     "output_type": "display_data"
    }
   ],
   "source": [
    "walkable = bitmap(nolliPATH)\n",
    "matplotlib.pyplot.matshow(walkable, cmap=colourway, vmin = 0, vmax = 1)\n",
    "np.shape(walkable)"
   ]
  },
  {
   "cell_type": "markdown",
   "metadata": {},
   "source": [
    "**check poi map**"
   ]
  },
  {
   "cell_type": "code",
   "execution_count": 10,
   "metadata": {},
   "outputs": [
    {
     "data": {
      "text/plain": [
       "(40, 60)"
      ]
     },
     "execution_count": 10,
     "metadata": {},
     "output_type": "execute_result"
    },
    {
     "data": {
      "image/png": "[encoded data removed]",
      "text/plain": [
       "<Figure size 720x480 with 1 Axes>"
      ]
     },
     "metadata": {},
     "output_type": "display_data"
    }
   ],
   "source": [
    "poi = bitmap(poiPATH)\n",
    "matplotlib.pyplot.matshow(poi, cmap=colourway, vmin = 0, vmax = 1)\n",
    "np.shape(poi)"
   ]
  },
  {
   "cell_type": "markdown",
   "metadata": {},
   "source": [
    "**verify images are the same shape**"
   ]
  },
  {
   "cell_type": "code",
   "execution_count": 11,
   "metadata": {},
   "outputs": [
    {
     "name": "stdout",
     "output_type": "stream",
     "text": [
      "height: 40, width: 60\n"
     ]
    }
   ],
   "source": [
    "if np.shape(poi) != np.shape(walkable):\n",
    "    print(\"The bitmaps are not the same size. The POI map is\", np.shape(poi), \"and the walkable map is\", np.shape(walkable))\n",
    "    \n",
    "else:\n",
    "    height, width = np.shape(poi)\n",
    "    print(f\"height: {height}, width: {width}\")\n",
    "    "
   ]
  },
  {
   "cell_type": "markdown",
   "metadata": {},
   "source": [
    "**initialise frontier cells**"
   ]
  },
  {
   "cell_type": "code",
   "execution_count": 12,
   "metadata": {},
   "outputs": [],
   "source": [
    "frontier = []\n",
    "\n",
    "for h in range(height):\n",
    "    for w in range(width):\n",
    "        if poi[h][w] == 1:\n",
    "            frontier.append((h, w))"
   ]
  },
  {
   "cell_type": "markdown",
   "metadata": {},
   "source": [
    "**initialise mutable cells, distance array**"
   ]
  },
  {
   "cell_type": "code",
   "execution_count": 13,
   "metadata": {},
   "outputs": [
    {
     "data": {
      "text/plain": [
       "<matplotlib.image.AxesImage at 0x226d32b4bc0>"
      ]
     },
     "execution_count": 13,
     "metadata": {},
     "output_type": "execute_result"
    },
    {
     "data": {
      "image/png": "[encoded data removed]",
      "text/plain": [
       "<Figure size 720x480 with 1 Axes>"
      ]
     },
     "metadata": {},
     "output_type": "display_data"
    }
   ],
   "source": [
    "mutable = walkable.copy()\n",
    "distance = np.full((height, width), iterations)\n",
    "\n",
    "for h in range(height):\n",
    "    for w in range(width):\n",
    "        if poi[h][w] == 1:\n",
    "            mutable[h][w] = 0\n",
    "            distance[h][w] = 0\n",
    "\n",
    "matplotlib.pyplot.matshow(mutable, cmap=colourway)"
   ]
  },
  {
   "cell_type": "markdown",
   "metadata": {},
   "source": [
    "**propogate**"
   ]
  },
  {
   "cell_type": "code",
   "execution_count": null,
   "metadata": {},
   "outputs": [
    {
     "name": "stdout",
     "output_type": "stream",
     "text": [
      "iteration 1, number of frontiers: 21\n",
      "iteration 2, number of frontiers: 21\n",
      "iteration 3, number of frontiers: 24\n",
      "iteration 4, number of frontiers: 25\n",
      "iteration 5, number of frontiers: 29\n",
      "iteration 6, number of frontiers: 31\n",
      "iteration 7, number of frontiers: 29\n",
      "iteration 8, number of frontiers: 30\n",
      "iteration 9, number of frontiers: 32\n",
      "iteration 10, number of frontiers: 33\n",
      "iteration 11, number of frontiers: 35\n",
      "iteration 12, number of frontiers: 35\n",
      "iteration 13, number of frontiers: 36\n",
      "iteration 14, number of frontiers: 34\n",
      "iteration 15, number of frontiers: 32\n",
      "iteration 16, number of frontiers: 31\n",
      "iteration 17, number of frontiers: 32\n",
      "iteration 18, number of frontiers: 35\n",
      "iteration 19, number of frontiers: 37\n",
      "iteration 20, number of frontiers: 37\n",
      "iteration 21, number of frontiers: 40\n",
      "iteration 22, number of frontiers: 42\n",
      "iteration 23, number of frontiers: 48\n",
      "iteration 24, number of frontiers: 44\n",
      "iteration 25, number of frontiers: 46\n",
      "iteration 26, number of frontiers: 41\n",
      "iteration 27, number of frontiers: 33\n",
      "iteration 28, number of frontiers: 21\n",
      "iteration 29, number of frontiers: 18\n",
      "iteration 30, number of frontiers: 17\n",
      "iteration 31, number of frontiers: 17\n",
      "iteration 32, number of frontiers: 17\n",
      "iteration 33, number of frontiers: 11\n",
      "iteration 34, number of frontiers: 14\n",
      "iteration 35, number of frontiers: 13\n",
      "iteration 36, number of frontiers: 11\n",
      "iteration 37, number of frontiers: 13\n",
      "iteration 38, number of frontiers: 14\n",
      "iteration 39, number of frontiers: 17\n",
      "iteration 40, number of frontiers: 19\n",
      "iteration 41, number of frontiers: 20\n",
      "iteration 42, number of frontiers: 19\n",
      "iteration 43, number of frontiers: 18\n",
      "iteration 44, number of frontiers: 13\n",
      "iteration 45, number of frontiers: 8\n",
      "iteration 46, number of frontiers: 4\n",
      "iteration 47, number of frontiers: 0\n"
     ]
    }
   ],
   "source": [
    "i = 0\n",
    "while i < iterations and len(frontier) != 0:\n",
    "    if height == 0 or width == 0:\n",
    "        print(\"The bitmaps are not the same size. The POI map is\", np.shape(poi), \"and the walkable map is\", np.shape(walkable))\n",
    "        break\n",
    "    \n",
    "    frontierTemp = []\n",
    "    for f in range(len(frontier)):\n",
    "        h, w = frontier[f]\n",
    "        mutable[h][w] = 0\n",
    "\n",
    "        if h == 0: # if the cell is on the top edge, try propogate except down, update frontierTemp\n",
    "            if mutable[h+1][w]:\n",
    "                distance[h+1][w] = i\n",
    "                mutable[h+1][w] = 0\n",
    "                frontierTemp.append((h+1, w))\n",
    "            \n",
    "            if mutable[h][w+1]:\n",
    "                distance[h][w+1] = i\n",
    "                mutable[h][w+1] = 0\n",
    "                frontierTemp.append((h, w+1))\n",
    "                \n",
    "            if mutable[h][w-1]:\n",
    "                distance[h][w-1] = i\n",
    "                mutable[h][w-1] = 0\n",
    "                frontierTemp.append((h, w-1))\n",
    "                \n",
    "        if h == height-1: # if the cell is on the bottom edge, try propogate except up, update frontierTemp\n",
    "            if mutable[h-1][w]:\n",
    "                distance[h-1][w] = i\n",
    "                mutable[h-1][w] = 0\n",
    "                frontierTemp.append((h-1, w))\n",
    "\n",
    "            if mutable[h][w+1]:\n",
    "                distance[h][w+1] = i\n",
    "                mutable[h][w+1] = 0\n",
    "                frontierTemp.append((h, w+1))\n",
    "                \n",
    "            if mutable[h][w-1]:\n",
    "                distance[h][w-1] = i\n",
    "                mutable[h][w-1] = 0\n",
    "                frontierTemp.append((h, w-1))\n",
    "\n",
    "        if w == 0: # if the cell is on the left edge, try propogate except right, update frontierTemp\n",
    "            if mutable[h][w+1]:\n",
    "                distance[h][w+1] = i\n",
    "                mutable[h][w+1] = 0\n",
    "                frontierTemp.append((h, w+1))\n",
    "\n",
    "            if mutable[h+1][w]:\n",
    "                distance[h+1][w] = i\n",
    "                mutable[h+1][w] = 0\n",
    "                frontierTemp.append((h+1, w))\n",
    "                \n",
    "            if mutable[h-1][w]:\n",
    "                distance[h-1][w] = i\n",
    "                mutable[h-1][w] = 0\n",
    "                frontierTemp.append((h-1, w))\n",
    "        \n",
    "        if w == width-1: # if the cell is on the right edge, try propogate except left, update frontierTemp\n",
    "            if mutable[h][w-1]:\n",
    "                distance[h][w-1] = i\n",
    "                mutable[h][w-1] = 0\n",
    "                frontierTemp.append((h, w-1))\n",
    "\n",
    "            if mutable[h+1][w]:\n",
    "                distance[h+1][w] = i\n",
    "                mutable[h+1][w] = 0\n",
    "                frontierTemp.append((h+1, w))\n",
    "                \n",
    "            if mutable[h-1][w]:\n",
    "                distance[h-1][w] = i\n",
    "                mutable[h-1][w] = 0\n",
    "                frontierTemp.append((h-1, w))\n",
    "        \n",
    "        if h != 0 and h != height-1 and w != 0 and w != width-1: # if not on the edge, try propogate in all directions, update frontierTemp\n",
    "            if mutable[h+1][w]:\n",
    "                distance[h+1][w] = i\n",
    "                mutable[h+1][w] = 0\n",
    "                frontierTemp.append((h+1, w))\n",
    "                \n",
    "            if mutable[h-1][w]:\n",
    "                distance[h-1][w] = i\n",
    "                mutable[h-1][w] = 0\n",
    "                frontierTemp.append((h-1, w))\n",
    "                \n",
    "            if mutable[h][w+1]:\n",
    "                distance[h][w+1] = i\n",
    "                mutable[h][w+1] = 0\n",
    "                frontierTemp.append((h, w+1))\n",
    "                \n",
    "            if mutable[h][w-1]:\n",
    "                distance[h][w-1] = i\n",
    "                mutable[h][w-1] = 0\n",
    "                frontierTemp.append((h, w-1))\n",
    "\n",
    "    frontier = frontierTemp\n",
    "    i = i+1\n",
    "    print(f\"iteration {i}, number of frontiers: {len(frontier)}\")"
   ]
  },
  {
   "cell_type": "code",
   "execution_count": 15,
   "metadata": {},
   "outputs": [],
   "source": [
    "for h in range(height):\n",
    "    for w in range(width):\n",
    "        if distance[h][w] == iterations:\n",
    "            distance[h][w] = 0\n",
    "        else:\n",
    "            distance[h][w] = i - distance[h][w]"
   ]
  },
  {
   "cell_type": "code",
   "execution_count": 16,
   "metadata": {},
   "outputs": [
    {
     "data": {
      "text/plain": [
       "array([[47, 47, 47, ...,  0,  0,  0],\n",
       "       [47, 47, 47, ...,  0,  0,  0],\n",
       "       [47, 47, 47, ...,  0,  0,  0],\n",
       "       ...,\n",
       "       [ 0,  0,  0, ...,  0,  0,  0],\n",
       "       [ 0,  0,  0, ...,  0,  0,  0],\n",
       "       [ 0,  0,  0, ...,  0,  0,  0]], shape=(40, 60))"
      ]
     },
     "execution_count": 16,
     "metadata": {},
     "output_type": "execute_result"
    },
    {
     "data": {
      "image/png": "[encoded data removed]",
      "text/plain": [
       "<Figure size 720x480 with 1 Axes>"
      ]
     },
     "metadata": {},
     "output_type": "display_data"
    }
   ],
   "source": [
    "matplotlib.pyplot.matshow(distance, cmap=colourway)\n",
    "distance"
   ]
  }
 ],
 "metadata": {
  "kernelspec": {
   "display_name": ".venv",
   "language": "python",
   "name": "python3"
  },
  "language_info": {
   "codemirror_mode": {
    "name": "ipython",
    "version": 3
   },
   "file_extension": ".py",
   "mimetype": "text/x-python",
   "name": "python",
   "nbconvert_exporter": "python",
   "pygments_lexer": "ipython3",
   "version": "3.12.9"
  }
 },
 "nbformat": 4,
 "nbformat_minor": 2
}
